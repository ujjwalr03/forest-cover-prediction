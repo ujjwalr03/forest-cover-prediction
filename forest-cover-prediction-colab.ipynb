{
  "nbformat": 4,
  "nbformat_minor": 0,
  "metadata": {
    "colab": {
      "provenance": []
    },
    "kernelspec": {
      "name": "python3",
      "display_name": "Python 3"
    },
    "language_info": {
      "name": "python"
    }
  },
  "cells": [
    {
      "cell_type": "code",
      "execution_count": null,
      "metadata": {
        "id": "JN2WSKJDJeSG"
      },
      "outputs": [],
      "source": [
        "# Step 1: Install dependencies (if needed)\n",
        "!pip install pandas numpy scikit-learn seaborn matplotlib joblib\n",
        "\n",
        "# Step 2: Import Libraries\n",
        "import pandas as pd\n",
        "import numpy as np\n",
        "import matplotlib.pyplot as plt\n",
        "import seaborn as sns\n",
        "from sklearn.model_selection import train_test_split\n",
        "from sklearn.preprocessing import StandardScaler\n",
        "from sklearn.ensemble import RandomForestClassifier\n",
        "from sklearn.metrics import accuracy_score, classification_report, confusion_matrix\n",
        "import joblib\n",
        "\n",
        "# Step 3: Load Dataset from GitHub\n",
        "url = \"https://raw.githubusercontent.com/ujjwalr03/forest-cover-prediction/main/train.csv\"  # Updated GitHub raw link\n",
        "df = pd.read_csv(url)\n",
        "\n",
        "# Step 4: Data Preprocessing\n",
        "X = df.drop(columns=['Cover_Type'])  # Features\n",
        "y = df['Cover_Type']  # Target\n",
        "\n",
        "# Train-Test Split\n",
        "X_train, X_test, y_train, y_test = train_test_split(X, y, test_size=0.2, random_state=42)\n",
        "\n",
        "# Feature Scaling\n",
        "scaler = StandardScaler()\n",
        "X_train_scaled = scaler.fit_transform(X_train)\n",
        "X_test_scaled = scaler.transform(X_test)\n",
        "\n",
        "# Step 5: Train RandomForest Model\n",
        "model = RandomForestClassifier(n_estimators=100, random_state=42)\n",
        "model.fit(X_train_scaled, y_train)\n",
        "\n",
        "# Step 6: Evaluate Model\n",
        "y_pred = model.predict(X_test_scaled)\n",
        "accuracy = accuracy_score(y_test, y_pred)\n",
        "print(f\"Accuracy: {accuracy:.4f}\")\n",
        "print(\"\\nClassification Report:\\n\", classification_report(y_test, y_pred))\n",
        "\n",
        "# Step 7: Save Model\n",
        "joblib.dump(model, \"forest_cover_model.pkl\")\n",
        "\n",
        "# Step 8: Load Model & Predict\n",
        "loaded_model = joblib.load(\"forest_cover_model.pkl\")\n",
        "sample_prediction = loaded_model.predict(X_test_scaled[:5])\n",
        "print(\"\\nSample Predictions:\", sample_prediction)\n",
        "\n",
        "# Step 9: Confusion Matrix Visualization\n",
        "plt.figure(figsize=(8,6))\n",
        "sns.heatmap(confusion_matrix(y_test, y_pred), annot=True, fmt='d', cmap='Blues', xticklabels=np.arange(1,8), yticklabels=np.arange(1,8))\n",
        "plt.xlabel(\"Predicted\")\n",
        "plt.ylabel(\"Actual\")\n",
        "plt.title(\"Confusion Matrix\")\n",
        "plt.show()"
      ]
    }
  ]
}